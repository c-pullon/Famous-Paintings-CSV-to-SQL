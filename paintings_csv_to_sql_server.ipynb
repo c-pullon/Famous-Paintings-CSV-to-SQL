{
 "cells": [
  {
   "cell_type": "markdown",
   "id": "a838f00c",
   "metadata": {},
   "source": [
    "This code uses the SQL Alchemy library to connect Python to an SQL database and send CSV files to corresponding tables in the database. A connection is made using the sever and database names, then each CSV file is opened as a Pandas dataframe and added to the database using the to_sql function."
   ]
  },
  {
   "cell_type": "code",
   "execution_count": 1,
   "id": "feea3c89",
   "metadata": {},
   "outputs": [],
   "source": [
    "# Importing necessary libraries\n",
    "\n",
    "import pandas as pd\n",
    "from sqlalchemy import create_engine"
   ]
  },
  {
   "cell_type": "code",
   "execution_count": 2,
   "id": "c35ee9ea",
   "metadata": {},
   "outputs": [
    {
     "name": "stdout",
     "output_type": "stream",
     "text": [
      "Imported artist.csv into artist\n",
      "Imported canvas_size.csv into canvas_size\n",
      "Imported image_link.csv into image_link\n",
      "Imported museum.csv into museum\n",
      "Imported museum_hours.csv into museum_hours\n",
      "Imported product_size.csv into product_size\n",
      "Imported subject.csv into subject\n",
      "Imported work.csv into work\n",
      "All files imported successfully.\n"
     ]
    }
   ],
   "source": [
    "# Define the database connection\n",
    "server = 'LAPTOP-NJLT4D0A'\n",
    "database = 'paintings'\n",
    "connection_string = f\"mssql+pyodbc://{server}/{database}?driver=ODBC+Driver+17+for+SQL+Server&trusted_connection=yes\"\n",
    "\n",
    "# Create the engine\n",
    "engine = create_engine(connection_string)\n",
    "\n",
    "# List of CSV files and their corresponding table names\n",
    "csv_files = {\n",
    "    'artist.csv': 'artist',\n",
    "    'canvas_size.csv': 'canvas_size',\n",
    "    'image_link.csv': 'image_link',\n",
    "    'museum.csv': 'museum',\n",
    "    'museum_hours.csv': 'museum_hours',\n",
    "    'product_size.csv': 'product_size',\n",
    "    'subject.csv': 'subject',\n",
    "    'work.csv': 'work'\n",
    "}\n",
    "\n",
    "# Function to import a CSV file into a SQL table\n",
    "def import_csv_to_sql(csv_file, table_name):\n",
    "    df = pd.read_csv(csv_file)\n",
    "    df.to_sql(table_name, engine, if_exists='replace', index=False)\n",
    "    print(f\"Imported {csv_file} into {table_name}\")\n",
    "\n",
    "# Import each CSV file\n",
    "for csv_file, table_name in csv_files.items():\n",
    "    import_csv_to_sql(csv_file, table_name)\n",
    "\n",
    "print(\"All files imported successfully.\")\n"
   ]
  }
 ],
 "metadata": {
  "kernelspec": {
   "display_name": "Python 3 (ipykernel)",
   "language": "python",
   "name": "python3"
  },
  "language_info": {
   "codemirror_mode": {
    "name": "ipython",
    "version": 3
   },
   "file_extension": ".py",
   "mimetype": "text/x-python",
   "name": "python",
   "nbconvert_exporter": "python",
   "pygments_lexer": "ipython3",
   "version": "3.9.12"
  }
 },
 "nbformat": 4,
 "nbformat_minor": 5
}
